{
 "cells": [
  {
   "cell_type": "markdown",
   "id": "intro",
   "metadata": {},
   "source": [
    "# Recomendador de Productos Solares con Agente Interactivo (Nivel Básico)\n",
    "\n",
    "Este proyecto implementa un **sistema de recomendación interactivo** para productos de energía solar, usando:\n",
    "\n",
    "- **Python, Pandas y Scikit-Learn**\n",
    "- **TF-IDF + Cosine Similarity**\n",
    "- **Agente conversacional con inputs del usuario**\n",
    "\n",
    "### Funcionalidades:\n",
    "✔ Filtrar por categoría\n",
    "✔ Ajustar por presupuesto máximo\n",
    "✔ Seleccionar palabras clave deseadas\n",
    "✔ Recomendaciones inteligentes usando similitud de contenido\n",
    "\n",
    "---"
   ]
  },
  {
   "cell_type": "code",
   "execution_count": null,
   "id": "instalacion",
   "metadata": {},
   "outputs": [],
   "source": [
    "# Instalación de dependencias necesarias\n",
    "!pip install nltk\n",
    "import nltk\n",
    "nltk.download('stopwords')"
   ]
  },
  {
   "cell_type": "code",
   "execution_count": null,
   "id": "librerias",
   "metadata": {},
   "outputs": [],
   "source": [
    "# Importación de librerías\n",
    "import pandas as pd\n",
    "from sklearn.feature_extraction.text import TfidfVectorizer\n",
    "from sklearn.metrics.pairwise import cosine_similarity\n",
    "from nltk.corpus import stopwords"
   ]
  },
  {
   "cell_type": "code",
   "execution_count": null,
   "id": "montar_drive",
   "metadata": {},
   "outputs": [],
   "source": [
    "# Montar Google Drive\n",
    "from google.colab import drive\n",
    "drive.mount('/content/drive')\n",
    "\n",
    "# Ruta del archivo Excel del dataset\n",
    "file_path = '/content/drive/MyDrive/IA/proyecto/productos_energia_solar.xlsx'\n",
    "\n",
    "# Leer dataset\n",
    "df = pd.read_excel(file_path)\n",
    "df.head()"
   ]
  },
  {
   "cell_type": "code",
   "execution_count": null,
   "id": "contenido",
   "metadata": {},
   "outputs": [],
   "source": [
    "# Crear columna combinada para análisis semántico\n",
    "df['contenido'] = df['descripcion'] + ' ' + df['palabras_clave'] + ' ' + df['categoría']"
   ]
  },
  {
   "cell_type": "code",
   "execution_count": null,
   "id": "vectorizador",
   "metadata": {},
   "outputs": [],
   "source": [
    "# Crear matriz TF-IDF con stopwords en español\n",
    "spanish_stopwords = stopwords.words('spanish')\n",
    "vectorizer = TfidfVectorizer(stop_words=spanish_stopwords)\n",
    "tfidf_matrix = vectorizer.fit_transform(df['contenido'])"
   ]
  },
  {
   "cell_type": "code",
   "execution_count": null,
   "id": "similitud",
   "metadata": {},
   "outputs": [],
   "source": [
    "# Crear matriz de similitud\n",
    "cosine_sim = cosine_similarity(tfidf_matrix, tfidf_matrix)"
   ]
  },
  {
   "cell_type": "code",
   "execution_count": null,
   "id": "agente",
   "metadata": {},
   "outputs": [],
   "source": [
    "# Agente interactivo para recomendar productos solares\n",
    "def agente_recomendador_solar():\n",
    "    print(\"🔆 ¡Hola! Soy tu asistente para encontrar productos solares ideales.\")\n",
    "\n",
    "    while True:\n",
    "        categoria = input(\"\\n¿Qué tipo de producto buscas? (o escribe 'salir' para terminar): \").strip()\n",
    "        if categoria.lower() == 'salir':\n",
    "            print(\"¡Gracias por usar el asistente solar! ☀️\")\n",
    "            break\n",
    "\n",
    "        if categoria not in df['categoría'].unique():\n",
    "            print(\"❌ Categoría no encontrada. Intenta con otra.\")\n",
    "            continue\n",
    "\n",
    "        presupuesto = input(\"¿Cuál es tu presupuesto máximo (en COP)? (o presiona Enter para omitir): \").strip()\n",
    "        presupuesto = int(presupuesto) if presupuesto.isdigit() else None\n",
    "\n",
    "        palabras = input(\"¿Qué características deseas? (Ej.: litio, inversor, techo, separados por coma): \").strip().lower()\n",
    "        texto_usuario = categoria + ' ' + palabras\n",
    "\n",
    "        resultados = df[df['categoría'] == categoria]\n",
    "        if presupuesto:\n",
    "            resultados = resultados[resultados['precio'] <= presupuesto]\n",
    "\n",
    "        if resultados.empty:\n",
    "            print(\"⚠️ No encontramos productos con esos filtros. Intenta ajustarlos.\")\n",
    "            continue\n",
    "\n",
    "        vector_usuario = vectorizer.transform([texto_usuario])\n",
    "        similitudes = cosine_similarity(vector_usuario, vectorizer.transform(resultados['contenido'])).flatten()\n",
    "        resultados['similitud'] = similitudes\n",
    "        recomendaciones = resultados.sort_values(by='similitud', ascending=False).head(5)\n",
    "\n",
    "        print(\"\\n✅ Productos recomendados:\")\n",
    "        for i, row in recomendaciones.iterrows():\n",
    "            print(f\"\\n🔋 Producto: {row['nombre']}\")\n",
    "            print(f\"💰 Precio: {row['precio']} COP\")\n",
    "            print(f\"📦 Categoría: {row['categoría']}\")\n",
    "            print(f\"📝 Descripción: {row['descripcion']}\")\n",
    "\n",
    "        continuar = input(\"\\n¿Quieres buscar otro producto? (sí/no): \").strip().lower()\n",
    "        if continuar != 'sí':\n",
    "            print(\"¡Hasta pronto! 🌞\")\n",
    "            break\n",
    "\n",
    "# Ejecutar agente\n",
    "agente_recomendador_solar()"
   ]
  }
 ],
 "metadata": {},
 "nbformat": 4,
 "nbformat_minor": 5
}